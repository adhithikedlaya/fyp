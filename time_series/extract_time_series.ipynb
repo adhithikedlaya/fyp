{
 "cells": [
  {
   "cell_type": "code",
   "execution_count": 1,
   "metadata": {},
   "outputs": [],
   "source": [
    "import numpy as np\n",
    "import nibabel as nib\n",
    "from nilearn.input_data import NiftiLabelsMasker\n",
    "import matplotlib.pyplot as plt\n",
    "import json"
   ]
  },
  {
   "cell_type": "code",
   "execution_count": 2,
   "metadata": {},
   "outputs": [
    {
     "name": "stdout",
     "output_type": "stream",
     "text": [
      "/rds/general/user/ak1920/home/fyp/ds003059\n",
      "['sub-011', 'sub-003', 'sub-001', 'sub-019', 'sub-020', 'sub-012', 'sub-010', 'sub-006', 'sub-004', 'sub-002']\n"
     ]
    }
   ],
   "source": [
    "import os\n",
    "%cd /rds/general/user/ak1920/home/fyp/ds003059\n",
    "cwd = os.getcwd()  # Get the current working directory (cwd)\n",
    "subjects = [directory for directory in os.listdir(cwd) if ('sub' in directory and not '.txt' in directory)] # Get all the files in that directory\n",
    "subjects = subjects[5:]\n",
    "print(subjects)"
   ]
  },
  {
   "cell_type": "code",
   "execution_count": 8,
   "metadata": {},
   "outputs": [
    {
     "name": "stdout",
     "output_type": "stream",
     "text": [
      "sub-011\n",
      "all_rois_shape (217, 100)\n",
      "ts_transposed shape (100, 217)\n",
      "final shape 100 (217,)\n",
      "all_rois_shape (217, 100)\n",
      "ts_transposed shape (100, 217)\n",
      "final shape 100 (217,)\n",
      "sub-003\n",
      "all_rois_shape (217, 100)\n",
      "ts_transposed shape (100, 217)\n",
      "final shape 100 (217,)\n",
      "all_rois_shape (217, 100)\n",
      "ts_transposed shape (100, 217)\n",
      "final shape 100 (217,)\n",
      "sub-001\n",
      "all_rois_shape (217, 100)\n",
      "ts_transposed shape (100, 217)\n",
      "final shape 100 (217,)\n",
      "all_rois_shape (217, 100)\n",
      "ts_transposed shape (100, 217)\n",
      "final shape 100 (217,)\n",
      "sub-019\n",
      "all_rois_shape (217, 100)\n",
      "ts_transposed shape (100, 217)\n",
      "final shape 100 (217,)\n",
      "all_rois_shape (217, 100)\n",
      "ts_transposed shape (100, 217)\n",
      "final shape 100 (217,)\n",
      "sub-020\n",
      "all_rois_shape (217, 100)\n",
      "ts_transposed shape (100, 217)\n",
      "final shape 100 (217,)\n",
      "all_rois_shape (217, 100)\n",
      "ts_transposed shape (100, 217)\n",
      "final shape 100 (217,)\n",
      "sub-012\n",
      "all_rois_shape (217, 100)\n",
      "ts_transposed shape (100, 217)\n",
      "final shape 100 (217,)\n",
      "all_rois_shape (217, 100)\n",
      "ts_transposed shape (100, 217)\n",
      "final shape 100 (217,)\n",
      "sub-010\n",
      "all_rois_shape (217, 100)\n",
      "ts_transposed shape (100, 217)\n",
      "final shape 100 (217,)\n",
      "all_rois_shape (217, 100)\n",
      "ts_transposed shape (100, 217)\n",
      "final shape 100 (217,)\n",
      "sub-006\n",
      "all_rois_shape (217, 100)\n",
      "ts_transposed shape (100, 217)\n",
      "final shape 100 (217,)\n",
      "all_rois_shape (217, 100)\n",
      "ts_transposed shape (100, 217)\n",
      "final shape 100 (217,)\n",
      "sub-004\n",
      "all_rois_shape (217, 100)\n",
      "ts_transposed shape (100, 217)\n",
      "final shape 100 (217,)\n",
      "all_rois_shape (217, 100)\n",
      "ts_transposed shape (100, 217)\n",
      "final shape 100 (217,)\n",
      "sub-002\n",
      "all_rois_shape (217, 100)\n",
      "ts_transposed shape (100, 217)\n",
      "final shape 100 (217,)\n",
      "all_rois_shape (217, 100)\n",
      "ts_transposed shape (100, 217)\n",
      "final shape 100 (217,)\n"
     ]
    }
   ],
   "source": [
    "# Step 2: Load the Schaefer parcellation\n",
    "\n",
    "parcellation_img = '/rds/general/user/ak1920/home/fyp/fyp/time_series/Schaefer2018_100Parcels.nii.gz'\n",
    "parcellation_nifti = nib.load(parcellation_img)\n",
    "for subj in subjects:\n",
    "    print(subj)\n",
    "    plcb_path_1 = f'{subj}/ses-PLCB/func/{subj}_ses-PLCB_task-rest_run-01_bold.nii.gz'\n",
    "    lsd_path_1 = f'{subj}/ses-LSD/func/{subj}_ses-LSD_task-rest_run-01_bold.nii.gz'\n",
    "    paths = [plcb_path_1, lsd_path_1]\n",
    "    all_plcb_time_series = []\n",
    "    all_lsd_time_series = []\n",
    "    for path in paths:\n",
    "        func_nifti = nib.load(path)\n",
    "        masker = NiftiLabelsMasker(labels_img=parcellation_nifti, standardize=True)\n",
    "        time_series = masker.fit_transform(func_nifti)\n",
    "        print(\"all_rois_shape\", time_series.shape)\n",
    "        ts_transposed = np.transpose(time_series)\n",
    "        print(\"ts_transposed shape\", ts_transposed.shape)\n",
    "        ts_per_roi = np.split(ts_transposed, 100)\n",
    "        ts_per_roi_list = [ts.squeeze() for ts in ts_per_roi]\n",
    "        print(\"final shape\", len(ts_per_roi_list), ts_per_roi_list[0].shape)\n",
    "        \n",
    "        if 'ses-PLCB' in path:\n",
    "            file_name = f'/rds/general/user/ak1920/home/fyp/fyp/time_series/{subj}-PLCB'\n",
    "        else:\n",
    "            file_name = f'/rds/general/user/ak1920/home/fyp/fyp/time_series/{subj}-LSD'\n",
    "        \n",
    "        for (i, ts) in enumerate(ts_per_roi_list):\n",
    "            np.savetxt(file_name+f'-ROI{i}.txt', ts, delimiter=', ')\n",
    "    "
   ]
  },
  {
   "cell_type": "code",
   "execution_count": 11,
   "metadata": {},
   "outputs": [
    {
     "name": "stdout",
     "output_type": "stream",
     "text": [
      "/rds/general/user/ak1920/home/fyp/ds003059/ds003059/time_series\n"
     ]
    }
   ],
   "source": [
    "#split into time series per roi & save each individually? or just load all and get one??\n",
    "%cd /rds/general/user/ak1920/home/fyp/ds003059/ds003059/time_series\n",
    "cwd = os.getcwd()  # Get the current working directory (cwd)\n",
    "file_paths = [directory for directory in os.listdir(cwd)] # Get all the files in that directory\n",
    "\n",
    "for path in file_paths:\n",
    "    time_series = np.loadtxt(path, delimiter=',')\n",
    "    # Transpose the array to switch its dimensions\n",
    "    ts_transposed = np.transpose(time_series)\n",
    "\n",
    "    # Split along the first axis into 116 arrays\n",
    "    ts_per_roi = np.split(ts_transposed, 116)\n",
    "\n",
    "    # If you need these arrays to be in a list format\n",
    "    ts_per_roi_list = [ts.squeeze() for ts in ts_per_roi]\n",
    "    \n",
    "    for (i, ts) in enumerate(ts_per_roi_list):\n",
    "        np.savetxt(path.split('.')[0]+f'-ROI{i}.txt', ts, delimiter=', ')"
   ]
  }
 ],
 "metadata": {
  "kernelspec": {
   "display_name": "Python3.9 (test1)",
   "language": "python",
   "name": "python39_test1"
  },
  "language_info": {
   "codemirror_mode": {
    "name": "ipython",
    "version": 3
   },
   "file_extension": ".py",
   "mimetype": "text/x-python",
   "name": "python",
   "nbconvert_exporter": "python",
   "pygments_lexer": "ipython3",
   "version": "3.9.19"
  }
 },
 "nbformat": 4,
 "nbformat_minor": 2
}
